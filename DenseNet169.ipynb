{
  "nbformat": 4,
  "nbformat_minor": 0,
  "metadata": {
    "colab": {
      "provenance": []
    },
    "kernelspec": {
      "name": "python3",
      "display_name": "Python 3"
    },
    "language_info": {
      "name": "python"
    },
    "accelerator": "GPU",
    "gpuClass": "standard"
  },
  "cells": [
    {
      "cell_type": "markdown",
      "source": [
        "# **Rami KOCO - 170255063**\n"
      ],
      "metadata": {
        "id": "tCI26Wy0F_KL"
      }
    },
    {
      "cell_type": "code",
      "execution_count": null,
      "metadata": {
        "id": "DwcD-8G63lxT"
      },
      "outputs": [],
      "source": [
        "import numpy as np\n",
        "import pandas as pd\n",
        "from tensorflow.keras.layers import InputLayer, BatchNormalization, Dropout, Flatten, Dense, Activation, MaxPool2D, Conv2D\n",
        "from tensorflow.keras.applications.densenet import DenseNet169\n",
        "import tensorflow as tf\n",
        "from tensorflow.keras.preprocessing.image import ImageDataGenerator\n",
        "from tensorflow.keras.models import Sequential\n",
        "from tensorflow.keras import optimizers\n",
        "from tensorflow.keras import Model\n",
        "from sklearn.metrics import classification_report, confusion_matrix\n",
        "import tqdm\n",
        "import os\n",
        "import cv2\n",
        "import matplotlib.pyplot as plt"
      ]
    },
    {
      "cell_type": "code",
      "source": [
        "from google.colab import drive\n",
        "drive.mount('/content/drive')"
      ],
      "metadata": {
        "colab": {
          "base_uri": "https://localhost:8080/"
        },
        "id": "SLgXOdHL3qMH",
        "outputId": "810a8fb5-0901-4bea-b55f-baf3a20345bd"
      },
      "execution_count": null,
      "outputs": [
        {
          "output_type": "stream",
          "name": "stdout",
          "text": [
            "Mounted at /content/drive\n"
          ]
        }
      ]
    },
    {
      "cell_type": "code",
      "source": [
        "trainPath='./drive/MyDrive/Data/train/'\n",
        "testPath='./drive/MyDrive/Data/test/'\n",
        "valPath='./drive/MyDrive/Data/train/'\n",
        "classes = ['COVID-19/','Normal/','Pneumonia-Bacterial/','Pneumonia-Viral/']"
      ],
      "metadata": {
        "id": "_cJopANA36Bc"
      },
      "execution_count": null,
      "outputs": []
    },
    {
      "cell_type": "code",
      "source": [
        "train_datagen = ImageDataGenerator(rescale = 1./255,\n",
        "        rotation_range=5,\n",
        "        width_shift_range=0.2,\n",
        "        height_shift_range=0.2,\n",
        "        shear_range=0.2,\n",
        "        horizontal_flip=True,\n",
        "        vertical_flip=True,\n",
        "        fill_mode='nearest')\n",
        "\n",
        "valid_datagen = ImageDataGenerator(rescale = 1./255)\n",
        "\n",
        "test_datagen  = ImageDataGenerator(rescale = 1./255)"
      ],
      "metadata": {
        "id": "4AmISav638vm"
      },
      "execution_count": null,
      "outputs": []
    },
    {
      "cell_type": "code",
      "source": [
        "train_dataset  = train_datagen.flow_from_directory(directory = trainPath,\n",
        "                                                   target_size = (224,224),\n",
        "                                                   class_mode = 'categorical',\n",
        "                                                   batch_size = 64)\n",
        "\n",
        "valid_dataset = valid_datagen.flow_from_directory(directory = valPath,\n",
        "                                                  target_size = (224,224),\n",
        "                                                  class_mode = 'categorical',\n",
        "                                                  batch_size = 64)\n",
        "\n",
        "test_dataset = test_datagen.flow_from_directory(directory = testPath,\n",
        "                                                  target_size = (224,224),\n",
        "                                                  class_mode = 'categorical',\n",
        "                                                  batch_size = 64)\n",
        "model_DenseNet169 = DenseNet169(input_shape=(224,224,3),include_top=False,weights=\"imagenet\")\n",
        "\n",
        "for layer in model_DenseNet169.layers:\n",
        "    layer.trainable = False"
      ],
      "metadata": {
        "colab": {
          "base_uri": "https://localhost:8080/"
        },
        "id": "FRj-GEDM3-_K",
        "outputId": "26e93426-f48f-47ed-daeb-4f684d03caa4"
      },
      "execution_count": null,
      "outputs": [
        {
          "output_type": "stream",
          "name": "stdout",
          "text": [
            "Found 7364 images belonging to 4 classes.\n",
            "Found 7364 images belonging to 4 classes.\n",
            "Found 673 images belonging to 4 classes.\n",
            "Downloading data from https://storage.googleapis.com/tensorflow/keras-applications/densenet/densenet169_weights_tf_dim_ordering_tf_kernels_notop.h5\n",
            "51879936/51877672 [==============================] - 5s 0us/step\n",
            "51888128/51877672 [==============================] - 5s 0us/step\n"
          ]
        }
      ]
    },
    {
      "cell_type": "code",
      "source": [
        "x = model_DenseNet169.output\n",
        "x = tf.keras.layers.Flatten()(x)\n",
        "x = tf.keras.layers.Dense(1024, activation = 'relu')(x)\n",
        "x = tf.keras.layers.Dropout(0.2)(x)\n",
        "x = tf.keras.layers.Dense(4, activation = \"softmax\")(x)\n",
        "model = Model(inputs= model_DenseNet169.input , outputs = x)"
      ],
      "metadata": {
        "id": "5-0d_68r4Arm"
      },
      "execution_count": null,
      "outputs": []
    },
    {
      "cell_type": "code",
      "source": [
        "METRICS = [\n",
        "      tf.keras.metrics.BinaryAccuracy(name='accuracy'),\n",
        "      tf.keras.metrics.Precision(name='precision'),\n",
        "      tf.keras.metrics.Recall(name='recall'),  \n",
        "      tf.keras.metrics.AUC(name='auc')\n",
        "]\n",
        "model.compile(optimizer=optimizers.Adam(learning_rate=0.001), loss='categorical_crossentropy',metrics=METRICS)"
      ],
      "metadata": {
        "id": "8XpJsB7C4Bar"
      },
      "execution_count": null,
      "outputs": []
    },
    {
      "cell_type": "code",
      "source": [
        "history=model.fit(train_dataset,validation_data=valid_dataset,epochs = 5)"
      ],
      "metadata": {
        "colab": {
          "base_uri": "https://localhost:8080/"
        },
        "id": "we940OVf4DPj",
        "outputId": "43a9ce0d-58af-4e08-ea79-69acf19f9145"
      },
      "execution_count": null,
      "outputs": [
        {
          "output_type": "stream",
          "name": "stdout",
          "text": [
            "Epoch 1/5\n",
            "116/116 [==============================] - 1623s 14s/step - loss: 6.4401 - accuracy: 0.8550 - precision: 0.7153 - recall: 0.6976 - auc: 0.8569 - val_loss: 0.5028 - val_accuracy: 0.8955 - val_precision: 0.8321 - val_recall: 0.7294 - val_auc: 0.9547\n",
            "Epoch 2/5\n",
            "116/116 [==============================] - 410s 4s/step - loss: 0.4705 - accuracy: 0.9034 - precision: 0.8296 - recall: 0.7724 - auc: 0.9600 - val_loss: 0.4223 - val_accuracy: 0.9135 - val_precision: 0.8524 - val_recall: 0.7907 - val_auc: 0.9678\n",
            "Epoch 3/5\n",
            "116/116 [==============================] - 405s 4s/step - loss: 0.4432 - accuracy: 0.9090 - precision: 0.8388 - recall: 0.7873 - auc: 0.9638 - val_loss: 0.4204 - val_accuracy: 0.9147 - val_precision: 0.8478 - val_recall: 0.8028 - val_auc: 0.9676\n",
            "Epoch 4/5\n",
            "116/116 [==============================] - 404s 3s/step - loss: 0.4356 - accuracy: 0.9084 - precision: 0.8346 - recall: 0.7901 - auc: 0.9649 - val_loss: 0.4105 - val_accuracy: 0.9204 - val_precision: 0.8547 - val_recall: 0.8210 - val_auc: 0.9696\n",
            "Epoch 5/5\n",
            "116/116 [==============================] - 405s 4s/step - loss: 0.4135 - accuracy: 0.9137 - precision: 0.8422 - recall: 0.8057 - auc: 0.9683 - val_loss: 0.3782 - val_accuracy: 0.9231 - val_precision: 0.8671 - val_recall: 0.8179 - val_auc: 0.9736\n"
          ]
        }
      ]
    },
    {
      "cell_type": "code",
      "source": [
        "from matplotlib import pyplot as plt\n",
        "plt.plot(history.history['accuracy'])\n",
        "plt.plot(history.history['val_accuracy'])\n",
        "plt.title('model accuracy')\n",
        "plt.ylabel('accuracy')\n",
        "plt.xlabel('epoch')\n",
        "plt.legend(['train', 'val'], loc='upper left')\n",
        "plt.show()"
      ],
      "metadata": {
        "colab": {
          "base_uri": "https://localhost:8080/",
          "height": 295
        },
        "id": "YeM5BQzR4Fc-",
        "outputId": "805ff224-263d-4fc7-b670-b81eb864215e"
      },
      "execution_count": null,
      "outputs": [
        {
          "output_type": "display_data",
          "data": {
            "text/plain": [
              "<Figure size 432x288 with 1 Axes>"
            ],
            "image/png": "[encoded data removed]"
          },
          "metadata": {
            "needs_background": "light"
          }
        }
      ]
    },
    {
      "cell_type": "code",
      "source": [
        "plt.plot(history.history['loss'])\n",
        "plt.plot(history.history['val_loss'])\n",
        "plt.title('model loss')\n",
        "plt.ylabel('loss')\n",
        "plt.xlabel('epoch')\n",
        "plt.legend(['train', 'val'], loc='upper left')\n",
        "plt.show()"
      ],
      "metadata": {
        "colab": {
          "base_uri": "https://localhost:8080/",
          "height": 295
        },
        "id": "Q5b_Y9zQ4HtL",
        "outputId": "37cc13a3-1d67-4e04-81bf-f4e400a88992"
      },
      "execution_count": null,
      "outputs": [
        {
          "output_type": "display_data",
          "data": {
            "text/plain": [
              "<Figure size 432x288 with 1 Axes>"
            ],
            "image/png": "[encoded data removed]"
          },
          "metadata": {
            "needs_background": "light"
          }
        }
      ]
    },
    {
      "cell_type": "code",
      "source": [
        "def test_Xy(data):\n",
        "    data.reset()\n",
        "    X, y = next(data)\n",
        "    for i in tqdm.tqdm(range(int(data.n/data.batch_size)-1)): \n",
        "        img, label = next(data)\n",
        "        X = np.append(X, img, axis=0 )\n",
        "        y = np.append(y, label, axis=0)\n",
        "    return X,y"
      ],
      "metadata": {
        "id": "_tu_kVQo4JOj"
      },
      "execution_count": null,
      "outputs": []
    },
    {
      "cell_type": "code",
      "source": [
        "X_test,y_test = test_Xy(test_dataset)"
      ],
      "metadata": {
        "colab": {
          "base_uri": "https://localhost:8080/"
        },
        "id": "NhvZuqQN4Onr",
        "outputId": "d381d754-498a-415d-e8a5-14b13c206636"
      },
      "execution_count": null,
      "outputs": [
        {
          "output_type": "stream",
          "name": "stderr",
          "text": [
            "100%|██████████| 9/9 [02:02<00:00, 13.60s/it]\n"
          ]
        }
      ]
    },
    {
      "cell_type": "code",
      "source": [
        "print('X_test:',X_test.shape,'y_test:',y_test.shape)"
      ],
      "metadata": {
        "colab": {
          "base_uri": "https://localhost:8080/"
        },
        "id": "nJcrRkpI4QS7",
        "outputId": "fbe41ee7-9ab1-4b7b-d582-6437a44604b9"
      },
      "execution_count": null,
      "outputs": [
        {
          "output_type": "stream",
          "name": "stdout",
          "text": [
            "X_test: (640, 224, 224, 3) y_test: (640, 4)\n"
          ]
        }
      ]
    },
    {
      "cell_type": "code",
      "source": [
        "y_pred  = np.round(model.predict(X_test))"
      ],
      "metadata": {
        "id": "M2W77VUz4RxD"
      },
      "execution_count": null,
      "outputs": []
    },
    {
      "cell_type": "code",
      "source": [
        "print(classification_report(y_test,y_pred))"
      ],
      "metadata": {
        "colab": {
          "base_uri": "https://localhost:8080/"
        },
        "id": "F0DWzgD-4S9-",
        "outputId": "474066ee-2329-4a4b-af1a-d6d48f5a1380"
      },
      "execution_count": null,
      "outputs": [
        {
          "output_type": "stream",
          "name": "stdout",
          "text": [
            "              precision    recall  f1-score   support\n",
            "\n",
            "           0       1.00      1.00      1.00        13\n",
            "           1       0.89      0.98      0.93       178\n",
            "           2       0.80      0.77      0.78       289\n",
            "           3       0.69      0.51      0.59       160\n",
            "\n",
            "   micro avg       0.81      0.77      0.79       640\n",
            "   macro avg       0.85      0.81      0.83       640\n",
            "weighted avg       0.80      0.77      0.78       640\n",
            " samples avg       0.77      0.77      0.77       640\n",
            "\n"
          ]
        },
        {
          "output_type": "stream",
          "name": "stderr",
          "text": [
            "/usr/local/lib/python3.7/dist-packages/sklearn/metrics/_classification.py:1318: UndefinedMetricWarning: Precision and F-score are ill-defined and being set to 0.0 in samples with no predicted labels. Use `zero_division` parameter to control this behavior.\n",
            "  _warn_prf(average, modifier, msg_start, len(result))\n"
          ]
        }
      ]
    },
    {
      "cell_type": "code",
      "source": [
        "import seaborn as sns\n",
        "\n",
        "labels = ['Covid19','Normal','Pneumonia-Bacterial','Pneumonia-Viral']    \n",
        "\n",
        "ax= plt.subplot()\n",
        "sns.set(rc = {'figure.figsize':(10,10)})\n",
        "\n",
        "cm = confusion_matrix(np.asarray(y_test).argmax(axis=1), np.asarray(y_pred).argmax(axis=1))\n",
        "sns.heatmap(cm, annot=True, fmt='g', ax=ax);\n",
        "\n",
        "ax.set_xlabel('Predicted');ax.set_ylabel('Accuracy'); \n",
        "ax.set_title('Doğruluk Matrisi'); \n",
        "ax.xaxis.set_ticklabels(labels); ax.yaxis.set_ticklabels(labels);"
      ],
      "metadata": {
        "colab": {
          "base_uri": "https://localhost:8080/",
          "height": 627
        },
        "id": "ueMQnwoh4Vbx",
        "outputId": "e42aebf5-1d8e-44d2-bc75-1682c717dae0"
      },
      "execution_count": null,
      "outputs": [
        {
          "output_type": "display_data",
          "data": {
            "text/plain": [
              "<Figure size 720x720 with 2 Axes>"
            ],
            "image/png": "[encoded data removed]"
          },
          "metadata": {}
        }
      ]
    }
  ]
}